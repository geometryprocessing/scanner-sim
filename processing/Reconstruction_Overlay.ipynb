{
 "cells": [
  {
   "cell_type": "code",
   "execution_count": 87,
   "metadata": {},
   "outputs": [
    {
     "name": "stdout",
     "output_type": "stream",
     "text": [
      "[[  -9.48749539   70.91672264  861.20602711 1000.        ]]\n",
      "[[ 9.99985087e-01 -5.46014155e-03 -1.06692981e-04  9.96645389e-03]\n",
      " [-1.41542557e-13 -1.95366030e-02  9.99809143e-01 -8.59656188e-01]\n",
      " [-5.46118386e-03 -9.99794233e-01 -1.95363117e-02  8.76751067e-02]\n",
      " [ 0.00000000e+00  0.00000000e+00  0.00000000e+00  1.00000000e-03]]\n"
     ]
    }
   ],
   "source": [
    "import igl\n",
    "import meshplot as mp\n",
    "import numpy as np\n",
    "\n",
    "r = np.array([[9.99985088e-01, -5.46014155e-03, -1.06692981e-04],\n",
    "              [0.00000000e+00, -1.95366030e-02,  9.99809142e-01],\n",
    "              [-5.46118386e-03, -9.99794233e-01, -1.95363117e-02]])\n",
    "t = np.array([[-.00948749539, .07091672264, 0.86120602711, 1.0]])\n",
    "t *= 1000.0\n",
    "#ri = np.vstack([r, np.zeros(3)])\n",
    "#transi = np.hstack([ri, -t.T])\n",
    "\n",
    "r = np.vstack([r.T, np.zeros(3)])\n",
    "trans = np.hstack([r, t.T])\n",
    "\n",
    "#trans = np.linalg.inv(trans)\n",
    "print(t)\n",
    "print(np.linalg.inv(trans))"
   ]
  },
  {
   "cell_type": "code",
   "execution_count": 77,
   "metadata": {},
   "outputs": [],
   "source": [
    "v_ref, f_ref = igl.read_triangle_mesh(\"pawn.obj\")\n",
    "v_rec, _ = igl.read_triangle_mesh(\"pawn_all.ply\")"
   ]
  },
  {
   "cell_type": "code",
   "execution_count": 88,
   "metadata": {},
   "outputs": [
    {
     "name": "stdout",
     "output_type": "stream",
     "text": [
      "(20274164, 3)\n",
      "(340670, 3)\n"
     ]
    },
    {
     "data": {
      "application/vnd.jupyter.widget-view+json": {
       "model_id": "8ef82e5f024a483180c6ac6dbabcf142",
       "version_major": 2,
       "version_minor": 0
      },
      "text/plain": [
       "Renderer(camera=PerspectiveCamera(children=(DirectionalLight(color='white', intensity=0.6, position=(-3.201236…"
      ]
     },
     "metadata": {},
     "output_type": "display_data"
    }
   ],
   "source": [
    "print(v_rec.shape)\n",
    "v_rec_ss = v_rec[np.random.choice(v_rec.shape[0], 340670, replace=False), :]\n",
    "print(v_rec_ss.shape)\n",
    "mp.plot(v_rec_ss)"
   ]
  },
  {
   "cell_type": "code",
   "execution_count": 89,
   "metadata": {},
   "outputs": [
    {
     "name": "stdout",
     "output_type": "stream",
     "text": [
      "(340670, 1) (340670, 3)\n",
      "-81.45640115674506 1000.0 463.28318010538646\n",
      "-76.14405059814453 919.99609375 285.9441712220696\n"
     ]
    }
   ],
   "source": [
    "pad = np.ones((v_ref.shape[0], 1))\n",
    "print(pad.shape, v_ref.shape)\n",
    "v_ref_h = np.hstack([v_ref, np.ones((v_ref.shape[0], 1))])\n",
    "v_trans = np.dot(trans, v_ref_h.T).T\n",
    "\n",
    "print(np.min(v_trans), np.max(v_trans), np.mean(v_trans))\n",
    "print(np.min(v_rec_ss), np.max(v_rec_ss), np.mean(v_rec_ss))"
   ]
  },
  {
   "cell_type": "code",
   "execution_count": 90,
   "metadata": {},
   "outputs": [
    {
     "data": {
      "application/vnd.jupyter.widget-view+json": {
       "model_id": "e88e8c9ece2c4fdca0f2de0a9644551f",
       "version_major": 2,
       "version_minor": 0
      },
      "text/plain": [
       "Renderer(camera=PerspectiveCamera(children=(DirectionalLight(color='white', intensity=0.6, position=(-9.520128…"
      ]
     },
     "metadata": {},
     "output_type": "display_data"
    },
    {
     "data": {
      "text/plain": [
       "1"
      ]
     },
     "execution_count": 90,
     "metadata": {},
     "output_type": "execute_result"
    }
   ],
   "source": [
    "p = mp.plot(v_trans[:, :3], f_ref, return_plot=True)\n",
    "p.add_points(v_rec_ss, shading={\"point_size\": 2.0})"
   ]
  },
  {
   "cell_type": "code",
   "execution_count": 92,
   "metadata": {},
   "outputs": [
    {
     "data": {
      "text/plain": [
       "(340670, 4)"
      ]
     },
     "execution_count": 92,
     "metadata": {},
     "output_type": "execute_result"
    }
   ],
   "source": [
    "v_trans.shape"
   ]
  },
  {
   "cell_type": "code",
   "execution_count": 94,
   "metadata": {},
   "outputs": [
    {
     "data": {
      "text/plain": [
       "True"
      ]
     },
     "execution_count": 94,
     "metadata": {},
     "output_type": "execute_result"
    }
   ],
   "source": [
    "igl.write_triangle_mesh(\"reference.obj\", v_trans[:, :3], f_ref)\n",
    "igl.write_triangle_mesh(\"reconstructed.obj\", v_rec_ss, np.array([[0, 1, 2]]))"
   ]
  }
 ],
 "metadata": {
  "kernelspec": {
   "display_name": "Python 3",
   "language": "python",
   "name": "python3"
  },
  "language_info": {
   "codemirror_mode": {
    "name": "ipython",
    "version": 3
   },
   "file_extension": ".py",
   "mimetype": "text/x-python",
   "name": "python",
   "nbconvert_exporter": "python",
   "pygments_lexer": "ipython3",
   "version": "3.8.5"
  }
 },
 "nbformat": 4,
 "nbformat_minor": 4
}
