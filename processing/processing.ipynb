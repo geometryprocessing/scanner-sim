{
 "cells": [
  {
   "cell_type": "code",
   "execution_count": 1,
   "metadata": {},
   "outputs": [
    {
     "ename": "ModuleNotFoundError",
     "evalue": "No module named 'OCC'",
     "output_type": "error",
     "traceback": [
      "\u001b[0;31m---------------------------------------------------------------------------\u001b[0m",
      "\u001b[0;31mModuleNotFoundError\u001b[0m                       Traceback (most recent call last)",
      "\u001b[0;32m<ipython-input-1-6b7bf62e1dd6>\u001b[0m in \u001b[0;36m<module>\u001b[0;34m\u001b[0m\n\u001b[1;32m      1\u001b[0m \u001b[0;31m# Meshing\u001b[0m\u001b[0;34m\u001b[0m\u001b[0;34m\u001b[0m\u001b[0;34m\u001b[0m\u001b[0m\n\u001b[0;32m----> 2\u001b[0;31m \u001b[0;32mfrom\u001b[0m \u001b[0mmeshing\u001b[0m \u001b[0;32mimport\u001b[0m \u001b[0mprocess\u001b[0m\u001b[0;34m\u001b[0m\u001b[0;34m\u001b[0m\u001b[0m\n\u001b[0m\u001b[1;32m      3\u001b[0m \u001b[0;34m\u001b[0m\u001b[0m\n\u001b[1;32m      4\u001b[0m process(data_path=\"data/models\", output_path=\"data/meshes\", sort=False, rescale=False, \n\u001b[1;32m      5\u001b[0m             filter_level=0, precision=[0.95, 0.04], subfolders=False)\n",
      "\u001b[0;32m~/Projects/SRB/Package/scanner-sim/processing/meshing.py\u001b[0m in \u001b[0;36m<module>\u001b[0;34m\u001b[0m\n\u001b[1;32m     12\u001b[0m \u001b[0;34m\u001b[0m\u001b[0m\n\u001b[1;32m     13\u001b[0m \u001b[0;34m\u001b[0m\u001b[0m\n\u001b[0;32m---> 14\u001b[0;31m \u001b[0;32mfrom\u001b[0m \u001b[0mOCC\u001b[0m\u001b[0;34m.\u001b[0m\u001b[0mCore\u001b[0m\u001b[0;34m.\u001b[0m\u001b[0mSTEPControl\u001b[0m \u001b[0;32mimport\u001b[0m \u001b[0mSTEPControl_Reader\u001b[0m\u001b[0;34m\u001b[0m\u001b[0;34m\u001b[0m\u001b[0m\n\u001b[0m\u001b[1;32m     15\u001b[0m \u001b[0;32mfrom\u001b[0m \u001b[0mOCC\u001b[0m\u001b[0;34m.\u001b[0m\u001b[0mCore\u001b[0m\u001b[0;34m.\u001b[0m\u001b[0mIFSelect\u001b[0m \u001b[0;32mimport\u001b[0m \u001b[0mIFSelect_RetDone\u001b[0m\u001b[0;34m,\u001b[0m \u001b[0mIFSelect_ItemsByEntity\u001b[0m\u001b[0;34m\u001b[0m\u001b[0;34m\u001b[0m\u001b[0m\n\u001b[1;32m     16\u001b[0m \u001b[0;32mfrom\u001b[0m \u001b[0mOCC\u001b[0m\u001b[0;34m.\u001b[0m\u001b[0mCore\u001b[0m\u001b[0;34m.\u001b[0m\u001b[0mBRepBuilderAPI\u001b[0m \u001b[0;32mimport\u001b[0m \u001b[0mBRepBuilderAPI_NurbsConvert\u001b[0m\u001b[0;34m\u001b[0m\u001b[0;34m\u001b[0m\u001b[0m\n",
      "\u001b[0;31mModuleNotFoundError\u001b[0m: No module named 'OCC'"
     ]
    }
   ],
   "source": [
    "# Meshing\n",
    "from meshing import process\n",
    "            \n",
    "process(data_path=\"data/models\", output_path=\"data/meshes\", sort=False, rescale=False, \n",
    "            filter_level=0, precision=[0.95, 0.04], subfolders=False)"
   ]
  },
  {
   "cell_type": "code",
   "execution_count": 33,
   "metadata": {},
   "outputs": [],
   "source": [
    "# Preprocessing/Create gray patterns\n",
    "\n",
    "import patterns as pa\n",
    "import matplotlib\n",
    "\n",
    "\n",
    "# Initialize textures\n",
    "def init_textures(tex_size=[1920, 1080]):\n",
    "    gray = pa.genboard_graycode(proj_resolution=tex_size)\n",
    "    textures_h = np.swapaxes(gray[0][:, :], 0, 2)\n",
    "    textures_v = np.swapaxes(gray[1][:, :], 0, 2)\n",
    "    white = np.ones(tex_size[::-1], dtype=np.uint8)*255\n",
    "    black = np.ones(tex_size[::-1], dtype=np.uint8)\n",
    "\n",
    "    patterns = [white, black]\n",
    "    for t in textures_v:\n",
    "        patterns.append(t)\n",
    "        patterns.append(255-t)\n",
    "    for t in textures_h:\n",
    "        patterns.append(t)\n",
    "        patterns.append(255-t)\n",
    "        \n",
    "    for p_i, p in enumerate(patterns):\n",
    "        pat = Image.fromarray(p)\n",
    "        pat.save(\"rendering/patterns/gray/default/img_%02i.png\"%p_i)\n",
    "\n",
    "textures = init_textures()\n",
    "\n",
    "\n",
    "\n",
    "def load_images(prefix, pars, mm=[1, 39], typ=\"256\"):\n",
    "    images = []\n",
    "    for i in range(mm[0], mm[1]):\n",
    "        filename_r = \"%s/%s/%s/%s_%02i.png\"%(pars[\"root_folder\"], pars[\"img_folder\"], typ, prefix, i)\n",
    "        im = matplotlib.image.imread(filename_r)\n",
    "        img = rgb2gray(im)*255\n",
    "\n",
    "        #print(img.shape, img.dtype, np.min(img), np.max(img))\n",
    "        images.append(img)\n",
    "    return images"
   ]
  }
 ],
 "metadata": {
  "kernelspec": {
   "display_name": "Python 3",
   "language": "python",
   "name": "python3"
  },
  "language_info": {
   "codemirror_mode": {
    "name": "ipython",
    "version": 3
   },
   "file_extension": ".py",
   "mimetype": "text/x-python",
   "name": "python",
   "nbconvert_exporter": "python",
   "pygments_lexer": "ipython3",
   "version": "3.8.5"
  }
 },
 "nbformat": 4,
 "nbformat_minor": 4
}
