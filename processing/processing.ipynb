{
 "cells": [
  {
   "cell_type": "code",
   "execution_count": 3,
   "metadata": {},
   "outputs": [
    {
     "name": "stdout",
     "output_type": "stream",
     "text": [
      "[PosixPath('../data/models/ShapesTargetv4.step'), PosixPath('../data/models/Flat Target v3.step'), PosixPath('../data/models/RookTargetv12.step'), PosixPath('../data/models/Rook Target v12.step'), PosixPath('../data/models/PawnTargetv6.step'), PosixPath('../data/models/Pawn Target v6.step'), PosixPath('../data/models/Shapes Target v4.step'), PosixPath('../data/models/FlatTargetv3.step')]\n"
     ]
    },
    {
     "data": {
      "application/vnd.jupyter.widget-view+json": {
       "model_id": "fd5efaed343344c792568ed8a4c1a51d",
       "version_major": 2,
       "version_minor": 0
      },
      "text/plain": [
       "HBox(children=(HTML(value=''), FloatProgress(value=0.0, max=8.0), HTML(value='')))"
      ]
     },
     "metadata": {},
     "output_type": "display_data"
    },
    {
     "name": "stdout",
     "output_type": "stream",
     "text": [
      "\n"
     ]
    }
   ],
   "source": [
    "# Meshing\n",
    "from meshing import process\n",
    "            \n",
    "process(data_path=\"../data/models\", output_path=\"../data/meshes\", sort=False, rescale=False, \n",
    "            filter_level=0, precision=[0.95, 0.04], subfolders=False)"
   ]
  },
  {
   "cell_type": "code",
   "execution_count": 33,
   "metadata": {},
   "outputs": [],
   "source": [
    "# Preprocessing/Create gray patterns\n",
    "\n",
    "import patterns as pa\n",
    "import matplotlib\n",
    "\n",
    "\n",
    "# Initialize textures\n",
    "def init_textures(tex_size=[1920, 1080]):\n",
    "    gray = pa.genboard_graycode(proj_resolution=tex_size)\n",
    "    textures_h = np.swapaxes(gray[0][:, :], 0, 2)\n",
    "    textures_v = np.swapaxes(gray[1][:, :], 0, 2)\n",
    "    white = np.ones(tex_size[::-1], dtype=np.uint8)*255\n",
    "    black = np.ones(tex_size[::-1], dtype=np.uint8)\n",
    "\n",
    "    patterns = [white, black]\n",
    "    for t in textures_v:\n",
    "        patterns.append(t)\n",
    "        patterns.append(255-t)\n",
    "    for t in textures_h:\n",
    "        patterns.append(t)\n",
    "        patterns.append(255-t)\n",
    "        \n",
    "    for p_i, p in enumerate(patterns):\n",
    "        pat = Image.fromarray(p)\n",
    "        pat.save(\"rendering/patterns/gray/default/img_%02i.png\"%p_i)\n",
    "\n",
    "textures = init_textures()\n",
    "\n",
    "\n",
    "\n",
    "def load_images(prefix, pars, mm=[1, 39], typ=\"256\"):\n",
    "    images = []\n",
    "    for i in range(mm[0], mm[1]):\n",
    "        filename_r = \"%s/%s/%s/%s_%02i.png\"%(pars[\"root_folder\"], pars[\"img_folder\"], typ, prefix, i)\n",
    "        im = matplotlib.image.imread(filename_r)\n",
    "        img = rgb2gray(im)*255\n",
    "\n",
    "        #print(img.shape, img.dtype, np.min(img), np.max(img))\n",
    "        images.append(img)\n",
    "    return images"
   ]
  }
 ],
 "metadata": {
  "kernelspec": {
   "display_name": "Python 3",
   "language": "python",
   "name": "python3"
  },
  "language_info": {
   "codemirror_mode": {
    "name": "ipython",
    "version": 3
   },
   "file_extension": ".py",
   "mimetype": "text/x-python",
   "name": "python",
   "nbconvert_exporter": "python",
   "pygments_lexer": "ipython3",
   "version": "3.8.5"
  }
 },
 "nbformat": 4,
 "nbformat_minor": 4
}
