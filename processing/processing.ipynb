{
 "cells": [
  {
   "cell_type": "code",
   "execution_count": 3,
   "metadata": {},
   "outputs": [
    {
     "name": "stdout",
     "output_type": "stream",
     "text": [
      "[PosixPath('../data/models/ShapesTargetv4.step'), PosixPath('../data/models/Flat Target v3.step'), PosixPath('../data/models/RookTargetv12.step'), PosixPath('../data/models/Rook Target v12.step'), PosixPath('../data/models/PawnTargetv6.step'), PosixPath('../data/models/Pawn Target v6.step'), PosixPath('../data/models/Shapes Target v4.step'), PosixPath('../data/models/FlatTargetv3.step')]\n"
     ]
    },
    {
     "data": {
      "application/vnd.jupyter.widget-view+json": {
       "model_id": "fd5efaed343344c792568ed8a4c1a51d",
       "version_major": 2,
       "version_minor": 0
      },
      "text/plain": [
       "HBox(children=(HTML(value=''), FloatProgress(value=0.0, max=8.0), HTML(value='')))"
      ]
     },
     "metadata": {},
     "output_type": "display_data"
    },
    {
     "name": "stdout",
     "output_type": "stream",
     "text": [
      "\n"
     ]
    }
   ],
   "source": [
    "# Meshing\n",
    "from meshing import process\n",
    "            \n",
    "process(data_path=\"../data/models\", output_path=\"../data/meshes\", sort=False, rescale=False, \n",
    "            filter_level=0, precision=[0.95, 0.04], subfolders=False)"
   ]
  }
 ],
 "metadata": {
  "kernelspec": {
   "display_name": "Python 3",
   "language": "python",
   "name": "python3"
  },
  "language_info": {
   "codemirror_mode": {
    "name": "ipython",
    "version": 3
   },
   "file_extension": ".py",
   "mimetype": "text/x-python",
   "name": "python",
   "nbconvert_exporter": "python",
   "pygments_lexer": "ipython3",
   "version": "3.8.2"
  }
 },
 "nbformat": 4,
 "nbformat_minor": 4
}
