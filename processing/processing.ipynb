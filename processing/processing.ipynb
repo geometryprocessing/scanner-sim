{
 "cells": [
  {
   "cell_type": "code",
   "execution_count": 1,
   "metadata": {},
   "outputs": [
    {
     "ename": "ModuleNotFoundError",
     "evalue": "No module named 'OCC'",
     "output_type": "error",
     "traceback": [
      "\u001b[0;31m---------------------------------------------------------------------------\u001b[0m",
      "\u001b[0;31mModuleNotFoundError\u001b[0m                       Traceback (most recent call last)",
      "\u001b[0;32m<ipython-input-1-6b7bf62e1dd6>\u001b[0m in \u001b[0;36m<module>\u001b[0;34m\u001b[0m\n\u001b[1;32m      1\u001b[0m \u001b[0;31m# Meshing\u001b[0m\u001b[0;34m\u001b[0m\u001b[0;34m\u001b[0m\u001b[0;34m\u001b[0m\u001b[0m\n\u001b[0;32m----> 2\u001b[0;31m \u001b[0;32mfrom\u001b[0m \u001b[0mmeshing\u001b[0m \u001b[0;32mimport\u001b[0m \u001b[0mprocess\u001b[0m\u001b[0;34m\u001b[0m\u001b[0;34m\u001b[0m\u001b[0m\n\u001b[0m\u001b[1;32m      3\u001b[0m \u001b[0;34m\u001b[0m\u001b[0m\n\u001b[1;32m      4\u001b[0m process(data_path=\"data/models\", output_path=\"data/meshes\", sort=False, rescale=False, \n\u001b[1;32m      5\u001b[0m             filter_level=0, precision=[0.95, 0.04], subfolders=False)\n",
      "\u001b[0;32m~/Projects/SRB/Package/scanner-sim/processing/meshing.py\u001b[0m in \u001b[0;36m<module>\u001b[0;34m\u001b[0m\n\u001b[1;32m     12\u001b[0m \u001b[0;34m\u001b[0m\u001b[0m\n\u001b[1;32m     13\u001b[0m \u001b[0;34m\u001b[0m\u001b[0m\n\u001b[0;32m---> 14\u001b[0;31m \u001b[0;32mfrom\u001b[0m \u001b[0mOCC\u001b[0m\u001b[0;34m.\u001b[0m\u001b[0mCore\u001b[0m\u001b[0;34m.\u001b[0m\u001b[0mSTEPControl\u001b[0m \u001b[0;32mimport\u001b[0m \u001b[0mSTEPControl_Reader\u001b[0m\u001b[0;34m\u001b[0m\u001b[0;34m\u001b[0m\u001b[0m\n\u001b[0m\u001b[1;32m     15\u001b[0m \u001b[0;32mfrom\u001b[0m \u001b[0mOCC\u001b[0m\u001b[0;34m.\u001b[0m\u001b[0mCore\u001b[0m\u001b[0;34m.\u001b[0m\u001b[0mIFSelect\u001b[0m \u001b[0;32mimport\u001b[0m \u001b[0mIFSelect_RetDone\u001b[0m\u001b[0;34m,\u001b[0m \u001b[0mIFSelect_ItemsByEntity\u001b[0m\u001b[0;34m\u001b[0m\u001b[0;34m\u001b[0m\u001b[0m\n\u001b[1;32m     16\u001b[0m \u001b[0;32mfrom\u001b[0m \u001b[0mOCC\u001b[0m\u001b[0;34m.\u001b[0m\u001b[0mCore\u001b[0m\u001b[0;34m.\u001b[0m\u001b[0mBRepBuilderAPI\u001b[0m \u001b[0;32mimport\u001b[0m \u001b[0mBRepBuilderAPI_NurbsConvert\u001b[0m\u001b[0;34m\u001b[0m\u001b[0;34m\u001b[0m\u001b[0m\n",
      "\u001b[0;31mModuleNotFoundError\u001b[0m: No module named 'OCC'"
     ]
    }
   ],
   "source": [
    "# Meshing\n",
    "from meshing import process\n",
    "            \n",
    "process(data_path=\"data/models\", output_path=\"data/meshes\", sort=False, rescale=False, \n",
    "            filter_level=0, precision=[0.95, 0.04], subfolders=False)"
   ]
  },
  {
   "cell_type": "code",
   "execution_count": 19,
   "metadata": {},
   "outputs": [],
   "source": [
    "# Create charuco board\n",
    "import cv2\n",
    "from cv2 import aruco\n",
    "import numpy as np\n",
    "from PIL import Image\n",
    "import os\n",
    "os.chdir(\"/home/sebastian/Projects/SRB/Package/scanner-sim\")\n",
    "\n",
    "# dic = aruco.getPredefinedDictionary(aruco.DICT_5X5_250)\n",
    "# board = aruco.CharucoBoard_create(25, 18, 0.015, 0.01167, dic)\n",
    "# d = board.draw((1800, 2500), 10, 1)\n",
    "# im = Image.fromarray(d)\n",
    "# im.save(\"data/objects/charuco.png\")\n",
    "\n",
    "\n",
    "def create_charuco(n=25, m=18, size=15, draw=True, draw_scale=1):\n",
    "    aruco_dict = aruco.Dictionary_get(aruco.DICT_5X5_250)\n",
    "    board = aruco.CharucoBoard_create(n, m, size, size * 7 / 9, aruco_dict)\n",
    "    \n",
    "    img = board.draw((3750, 2700), 10, 10)\n",
    "\n",
    "    m_pos, m_ids, _ = cv2.aruco.detectMarkers(img, aruco_dict)\n",
    "\n",
    "    if len(m_pos) > 0:\n",
    "        count, c_pos, c_ids = cv2.aruco.interpolateCornersCharuco(m_pos, m_ids, img, board)\n",
    "    else:\n",
    "        count, c_pos, c_ids = 0, None, None\n",
    "\n",
    "    if count:\n",
    "        img_points, obj_points = np.array(c_pos).reshape((-1, 2)), board.chessboardCorners[c_ids].reshape((-1, 3))\n",
    "        ids = c_ids.ravel()\n",
    "    else:\n",
    "        img_points, obj_points, ids = None, None, None\n",
    "\n",
    "    if draw:\n",
    "        img = aruco.drawDetectedMarkers(img, np.array(m_pos), m_ids)\n",
    "        img = aruco.drawDetectedCornersCharuco(img, np.array(c_pos), c_ids, cornerColor=(0, 255, 0))\n",
    "\n",
    "\n",
    "    return (img_points, obj_points, ids), img\n",
    "\n",
    "ids, img = create_charuco(draw=False)\n",
    "\n",
    "im = Image.fromarray(img)\n",
    "im.save(\"data/objects/charuco.png\")"
   ]
  },
  {
   "cell_type": "code",
   "execution_count": 20,
   "metadata": {},
   "outputs": [
    {
     "name": "stdout",
     "output_type": "stream",
     "text": [
      "Created checkerboard\n"
     ]
    }
   ],
   "source": [
    "def create_checkerboard_ply(fname=\"cb\", shape=[25, 18], size=20, color1=[0, 0, 0], color2=[255, 255, 255]):\n",
    "    header = \"ply\\nformat ascii 1.0\\nelement vertex %i\\nproperty float x\\nproperty float y\\nproperty float z\\nproperty float nx\\nproperty float ny\\nproperty float nz\\nproperty uchar red\\nproperty uchar green\\nproperty uchar blue\\nelement face %i\\nproperty list uchar uint vertex_indices\\nend_header\\n\"\n",
    "    faces = []\n",
    "    vertices = []\n",
    "    x2 = shape[0] / 2 * size\n",
    "    z2 = shape[1] / 2 * size\n",
    "    vc = 0\n",
    "    for r in range(shape[1]):\n",
    "        for c in range(shape[0]):\n",
    "            if r%2 == 0 and c%2 == 0 or (r+1)%2 == 0 and (c+1)%2 == 0:\n",
    "                col = color1\n",
    "            else:\n",
    "                col = color2\n",
    "            v0 = ((c * size) - x2, 0.0, (r * size) - z2)\n",
    "            v1 = (((c+1) * size) - x2, 0.0, (r * size) - z2)\n",
    "            v2 = ((c * size) - x2, 0.0, ((r+1) * size) - z2)\n",
    "            v3 = (((c+1) * size) - x2, 0.0, ((r+1) * size) - z2)\n",
    "            vertices.append(\"%0.6f %0.6f %0.6f 0.0 -1.0 0.0 %i %i %i\"%(v0[0], v0[1], v0[2], col[0], col[1], col[2]))\n",
    "            vertices.append(\"%0.6f %0.6f %0.6f 0.0 -1.0 0.0 %i %i %i\"%(v1[0], v1[1], v1[2], col[0], col[1], col[2]))\n",
    "            vertices.append(\"%0.6f %0.6f %0.6f 0.0 -1.0 0.0 %i %i %i\"%(v2[0], v2[1], v2[2], col[0], col[1], col[2]))\n",
    "            vertices.append(\"%0.6f %0.6f %0.6f 0.0 -1.0 0.0 %i %i %i\"%(v3[0], v3[1], v3[2], col[0], col[1], col[2]))\n",
    "\n",
    "            faces.append(\"4 %i %i %i %i\"%(vc, vc+1, vc+3, vc+2))\n",
    "            vc += 4\n",
    "\n",
    "    with open(fname+\"%i_%i.ply\"%(shape[0], shape[1]), \"w\") as fi:\n",
    "        fi.write(header%(len(vertices), len(faces)))\n",
    "        for v in vertices:\n",
    "            fi.write(v+\"\\n\")\n",
    "        for f in faces:\n",
    "            fi.write(f+\"\\n\")\n",
    "    print(\"Created checkerboard\")\n",
    "    \n",
    "create_checkerboard_ply()"
   ]
  },
  {
   "cell_type": "code",
   "execution_count": 33,
   "metadata": {},
   "outputs": [],
   "source": [
    "# Preprocessing/Create gray patterns\n",
    "\n",
    "import patterns as pa\n",
    "import matplotlib\n",
    "\n",
    "\n",
    "# Initialize textures\n",
    "def init_textures(tex_size=[1920, 1080]):\n",
    "    gray = pa.genboard_graycode(proj_resolution=tex_size)\n",
    "    textures_h = np.swapaxes(gray[0][:, :], 0, 2)\n",
    "    textures_v = np.swapaxes(gray[1][:, :], 0, 2)\n",
    "    white = np.ones(tex_size[::-1], dtype=np.uint8)*255\n",
    "    black = np.ones(tex_size[::-1], dtype=np.uint8)\n",
    "\n",
    "    patterns = [white, black]\n",
    "    for t in textures_v:\n",
    "        patterns.append(t)\n",
    "        patterns.append(255-t)\n",
    "    for t in textures_h:\n",
    "        patterns.append(t)\n",
    "        patterns.append(255-t)\n",
    "        \n",
    "    for p_i, p in enumerate(patterns):\n",
    "        pat = Image.fromarray(p)\n",
    "        pat.save(\"rendering/patterns/gray/default/img_%02i.png\"%p_i)\n",
    "\n",
    "textures = init_textures()\n",
    "\n",
    "\n",
    "\n",
    "def load_images(prefix, pars, mm=[1, 39], typ=\"256\"):\n",
    "    images = []\n",
    "    for i in range(mm[0], mm[1]):\n",
    "        filename_r = \"%s/%s/%s/%s_%02i.png\"%(pars[\"root_folder\"], pars[\"img_folder\"], typ, prefix, i)\n",
    "        im = matplotlib.image.imread(filename_r)\n",
    "        img = rgb2gray(im)*255\n",
    "\n",
    "        #print(img.shape, img.dtype, np.min(img), np.max(img))\n",
    "        images.append(img)\n",
    "    return images"
   ]
  }
 ],
 "metadata": {
  "kernelspec": {
   "display_name": "Python 3",
   "language": "python",
   "name": "python3"
  },
  "language_info": {
   "codemirror_mode": {
    "name": "ipython",
    "version": 3
   },
   "file_extension": ".py",
   "mimetype": "text/x-python",
   "name": "python",
   "nbconvert_exporter": "python",
   "pygments_lexer": "ipython3",
   "version": "3.8.5"
  }
 },
 "nbformat": 4,
 "nbformat_minor": 4
}
