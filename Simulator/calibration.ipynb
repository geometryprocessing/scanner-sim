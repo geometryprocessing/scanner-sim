{
 "cells": [
  {
   "cell_type": "code",
   "execution_count": 1,
   "metadata": {},
   "outputs": [],
   "source": [
    "import numpy as np\n",
    "\n",
    "with open(\"cam.npy\", \"rb\") as fi:\n",
    "    c = np.load(fi)"
   ]
  },
  {
   "cell_type": "code",
   "execution_count": 2,
   "metadata": {},
   "outputs": [],
   "source": [
    "import pickle\n",
    "\n",
    "with open(\"refined_calibration.pkl\", \"rb\") as fi:\n",
    "    rc = pickle.load(fi)"
   ]
  },
  {
   "cell_type": "code",
   "execution_count": 2,
   "metadata": {},
   "outputs": [
    {
     "ename": "NameError",
     "evalue": "name 'rc' is not defined",
     "output_type": "error",
     "traceback": [
      "\u001b[0;31m---------------------------------------------------------------------------\u001b[0m",
      "\u001b[0;31mNameError\u001b[0m                                 Traceback (most recent call last)",
      "\u001b[0;32m<ipython-input-2-d660d770a635>\u001b[0m in \u001b[0;36m<module>\u001b[0;34m\u001b[0m\n\u001b[1;32m      3\u001b[0m \u001b[0mimg\u001b[0m \u001b[0;34m=\u001b[0m \u001b[0mcv2\u001b[0m\u001b[0;34m.\u001b[0m\u001b[0mimread\u001b[0m\u001b[0;34m(\u001b[0m\u001b[0;34m\"ref.png\"\u001b[0m\u001b[0;34m)\u001b[0m\u001b[0;34m\u001b[0m\u001b[0;34m\u001b[0m\u001b[0m\n\u001b[1;32m      4\u001b[0m \u001b[0;34m\u001b[0m\u001b[0m\n\u001b[0;32m----> 5\u001b[0;31m \u001b[0mimg2\u001b[0m \u001b[0;34m=\u001b[0m \u001b[0mcv2\u001b[0m\u001b[0;34m.\u001b[0m\u001b[0mundistort\u001b[0m\u001b[0;34m(\u001b[0m\u001b[0mimg\u001b[0m\u001b[0;34m,\u001b[0m \u001b[0mrc\u001b[0m\u001b[0;34m[\u001b[0m\u001b[0;36m1\u001b[0m\u001b[0;34m]\u001b[0m\u001b[0;34m,\u001b[0m \u001b[0mrc\u001b[0m\u001b[0;34m[\u001b[0m\u001b[0;36m2\u001b[0m\u001b[0;34m]\u001b[0m\u001b[0;34m)\u001b[0m\u001b[0;34m\u001b[0m\u001b[0;34m\u001b[0m\u001b[0m\n\u001b[0m\u001b[1;32m      6\u001b[0m \u001b[0;34m\u001b[0m\u001b[0m\n\u001b[1;32m      7\u001b[0m \u001b[0mcv2\u001b[0m\u001b[0;34m.\u001b[0m\u001b[0mimwrite\u001b[0m\u001b[0;34m(\u001b[0m\u001b[0;34m\"ref_un.png\"\u001b[0m\u001b[0;34m,\u001b[0m \u001b[0mimg2\u001b[0m\u001b[0;34m)\u001b[0m\u001b[0;34m\u001b[0m\u001b[0;34m\u001b[0m\u001b[0m\n",
      "\u001b[0;31mNameError\u001b[0m: name 'rc' is not defined"
     ]
    }
   ],
   "source": [
    "import cv2\n",
    "\n",
    "img = cv2.imread(\"ref.png\")\n",
    "\n",
    "img2 = cv2.undistort(img, rc[1], rc[2])\n",
    "\n",
    "cv2.imwrite(\"ref_un.png\", img2)"
   ]
  },
  {
   "cell_type": "code",
   "execution_count": 3,
   "metadata": {},
   "outputs": [],
   "source": [
    "import numpy as np\n",
    "#cameraMatrix = rc[1]\n",
    "#print(cameraMatrix)\n",
    "camera = np.array([[14765.75, 0.0, 3326.5888055600226],\n",
    "        [0.0,14810.443359375, 2511.1309993313625],\n",
    "        [0.0, 0.0,1.0 ]])\n",
    "proj = np.array([[2901.4541015625, 0.0, 938.2533578506554],\n",
    "        [0.0,2893.365478515625, 1080.8464171617743],\n",
    "        [0.0, 0.0,1.0 ]])\n",
    "imageSize = (6464, 4852)\n",
    "projSize = (1920, 1080)\n",
    "#apertureWidth = 0.00645\n",
    "apertureWidth = 0.0223\n",
    "#apertureHeight = 0.00645\n",
    "apertureHeight = 0.01678\n",
    "\n",
    "pars_cam = cv2.calibrationMatrixValues(camera, imageSize, apertureWidth, apertureHeight)\n",
    "pars_pro = cv2.calibrationMatrixValues(proj, projSize, 1.0, 1.0)\n"
   ]
  },
  {
   "cell_type": "code",
   "execution_count": 5,
   "metadata": {},
   "outputs": [
    {
     "name": "stdout",
     "output_type": "stream",
     "text": [
      "p_fovx, p_fovy, p_focalLength, p_principalPoint, p_aspectRatio\n",
      "(24.691991457273215, 18.604662953325178, 0.05094001005569307, (0.011476319672646737, 0.008684414296945643), 1.003026826227926)\n",
      "(36.61378383236295, 20.46692994730509, 1.5111740112304688, (0.4886736238805497, 1.0007837195942355), 0.9972122174731218)\n"
     ]
    }
   ],
   "source": [
    "print(\"p_fovx, p_fovy, p_focalLength, p_principalPoint, p_aspectRatio\")\n",
    "print(pars_cam)\n",
    "print(pars_pro)"
   ]
  },
  {
   "cell_type": "code",
   "execution_count": 15,
   "metadata": {},
   "outputs": [
    {
     "data": {
      "text/plain": [
       "[array([[-103.59014475],\n",
       "        [ -64.54430867],\n",
       "        [ 809.19495818]]), array([[-101.19650211],\n",
       "        [ -64.40898049],\n",
       "        [ 792.2500483 ]]), array([[ -97.20253243],\n",
       "        [ -64.02580217],\n",
       "        [ 777.134647  ]]), array([[ -90.3481411 ],\n",
       "        [ -63.74459333],\n",
       "        [ 765.02083964]]), array([[ -84.30463903],\n",
       "        [ -63.61741307],\n",
       "        [ 753.61705956]]), array([[ -76.48177145],\n",
       "        [ -63.22850722],\n",
       "        [ 741.50512145]]), array([[ -68.97093151],\n",
       "        [ -63.0812    ],\n",
       "        [ 737.91213267]]), array([[ -98.60908057],\n",
       "        [ -63.42983252],\n",
       "        [ 728.70306288]]), array([[ -10.79181425],\n",
       "        [ -61.97564746],\n",
       "        [ 737.99175836]]), array([[ -89.69356389],\n",
       "        [ -63.72744026],\n",
       "        [ 739.26965848]]), array([[ -95.24783116],\n",
       "        [ -63.9344242 ],\n",
       "        [ 743.7725916 ]]), array([[-102.65861956],\n",
       "        [ -64.22037534],\n",
       "        [ 752.82958357]]), array([[-107.53020922],\n",
       "        [ -64.57825182],\n",
       "        [ 767.19555083]]), array([[-109.29409341],\n",
       "        [ -65.64525516],\n",
       "        [ 813.72793428]]), array([[-106.46620609],\n",
       "        [ -65.65933871],\n",
       "        [ 817.67374384]]), array([[-106.88221102],\n",
       "        [ -65.4685121 ],\n",
       "        [ 813.24013551]]), array([[-103.81890325],\n",
       "        [ -65.81016013],\n",
       "        [ 828.74757175]]), array([[ -98.86923184],\n",
       "        [ -65.98268836],\n",
       "        [ 846.52259185]]), array([[ -96.88695017],\n",
       "        [ -66.05608754],\n",
       "        [ 854.68833184]]), array([[ -88.17396208],\n",
       "        [ -66.37843991],\n",
       "        [ 873.64477681]]), array([[ -83.11692856],\n",
       "        [ -66.4720687 ],\n",
       "        [ 885.22225085]]), array([[ -77.87724435],\n",
       "        [ -66.49843217],\n",
       "        [ 897.84674939]]), array([[ -69.8842554 ],\n",
       "        [ -66.40625611],\n",
       "        [ 910.78690112]]), array([[ -57.07381244],\n",
       "        [ -66.50469346],\n",
       "        [ 920.38476505]]), array([[  -8.31561596],\n",
       "        [ -65.71153734],\n",
       "        [ 927.99288563]]), array([[   1.01164345],\n",
       "        [ -65.49061153],\n",
       "        [ 927.7120518 ]]), array([[-161.68703212],\n",
       "        [ -72.4642768 ],\n",
       "        [ 945.69581018]]), array([[ -59.59794741],\n",
       "        [ -72.05512843],\n",
       "        [ 943.2253839 ]]), array([[-153.06990888],\n",
       "        [-111.9984399 ],\n",
       "        [ 898.29484077]]), array([[-123.35438761],\n",
       "        [ -87.15550131],\n",
       "        [ 782.41801625]]), array([[ -43.80153424],\n",
       "        [ -84.40169356],\n",
       "        [ 830.68972167]]), array([[ -65.32193259],\n",
       "        [ -91.2937901 ],\n",
       "        [ 891.23190015]]), array([[ -65.40728692],\n",
       "        [ -89.00538744],\n",
       "        [ 881.87740799]]), array([[ -98.48175935],\n",
       "        [ -23.63922962],\n",
       "        [ 856.48469746]]), array([[ -86.01102627],\n",
       "        [ -84.42524816],\n",
       "        [ 856.5659637 ]]), array([[ -81.68753265],\n",
       "        [ -82.79422365],\n",
       "        [ 846.98214528]]), array([[ -76.9119089 ],\n",
       "        [ -76.15224089],\n",
       "        [ 822.05106367]]), array([[ -74.38848555],\n",
       "        [ -82.6542116 ],\n",
       "        [ 814.01614629]]), array([[ -42.96809264],\n",
       "        [ -98.88542951],\n",
       "        [ 793.83996943]]), array([[-122.23017952],\n",
       "        [ -68.18293001],\n",
       "        [ 779.51280939]]), array([[ -86.57351189],\n",
       "        [ -64.4535475 ],\n",
       "        [ 823.97672685]]), array([[-100.75638105],\n",
       "        [ -65.48595724],\n",
       "        [ 835.76208589]]), array([[-102.85707673],\n",
       "        [ -65.18081753],\n",
       "        [ 825.28971648]])]"
      ]
     },
     "execution_count": 15,
     "metadata": {},
     "output_type": "execute_result"
    }
   ],
   "source": [
    "rc[4]"
   ]
  },
  {
   "cell_type": "code",
   "execution_count": null,
   "metadata": {},
   "outputs": [],
   "source": []
  }
 ],
 "metadata": {
  "kernelspec": {
   "display_name": "Python 3",
   "language": "python",
   "name": "python3"
  },
  "language_info": {
   "codemirror_mode": {
    "name": "ipython",
    "version": 3
   },
   "file_extension": ".py",
   "mimetype": "text/x-python",
   "name": "python",
   "nbconvert_exporter": "python",
   "pygments_lexer": "ipython3",
   "version": "3.8.5"
  }
 },
 "nbformat": 4,
 "nbformat_minor": 2
}
