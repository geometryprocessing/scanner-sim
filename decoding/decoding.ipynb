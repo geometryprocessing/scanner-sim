{
 "cells": [
  {
   "cell_type": "code",
   "execution_count": 24,
   "metadata": {},
   "outputs": [],
   "source": [
    "# Python MPS decoding\n",
    "#ic = decode_images_mps(\"rendering/results/obj_mps/rot_000\", \"rendering/patterns/mps/64-05\")\n",
    "\n",
    "# Python Gray decoding\n",
    "#v, h, mask = decode_images_gray_python(\"rendering/results/00_obj/\", \"rendering/patterns/gray/default/\", prefix=\"cam\")\n",
    "\n",
    "# Decoding storage/saving\n",
    "#dec = np.stack([v, h, mask])\n",
    "# with open(\"rendering/results/obj_gray/rot_fixed/decoded.npy\", \"wb\") as fi:\n",
    "#     np.save(fi, dec)\n",
    "# import cv2\n",
    "# fs = cv2.FileStorage(\"rendering/results/obj_new/rot_fixed/decoded.xml\", cv2.FILE_STORAGE_WRITE)\n",
    "# fs.write(\"v\", dec[0].astype(\"float32\"))\n",
    "# fs.write(\"h\", dec[1].astype(\"float32\")) \n",
    "# fs.release()\n",
    "\n",
    "# Fast gray decoding\n",
    "#decode_images_gray(\"rendering/results/last_abc/obj_00190086_00\", prefix=\"cam\", pro=[2048, 2048])\n",
    "\n",
    "\n"
   ]
  },
  {
   "cell_type": "code",
   "execution_count": null,
   "metadata": {},
   "outputs": [],
   "source": [
    "%matplotlib widget\n",
    "import matplotlib.pyplot as plt\n",
    "import numpy as np\n",
    "import cv2\n",
    "\n",
    "# Debug images for gray patterns\n",
    "plt.figure(figsize = (20,10))\n",
    "plt.imshow(v)#, cmap=\"gray\")\n",
    "plt.show()\n",
    "plt.figure(figsize = (20,10))\n",
    "plt.imshow(h)#, cmap=\"gray\")\n",
    "plt.show()\n",
    "#dec = np.stack([v, h, mask])\n",
    "print(dec.shape)"
   ]
  },
  {
   "cell_type": "code",
   "execution_count": null,
   "metadata": {},
   "outputs": [],
   "source": [
    "# Debug output for mps decoding\n",
    "import matplotlib.pyplot as plt\n",
    "\n",
    "plt.figure(figsize = (20,20))\n",
    "plt.imshow(IC, cmap=\"jet\")\n",
    "plt.show()\n",
    "print(IC.dtype, IC.shape, IC[750, 750])"
   ]
  },
  {
   "cell_type": "code",
   "execution_count": 28,
   "metadata": {},
   "outputs": [
    {
     "name": "stdout",
     "output_type": "stream",
     "text": [
      "[[-1. -1. -1. ... -1. -1. -1.]\n",
      " [-1. -1. -1. ... -1. -1. -1.]\n",
      " [-1. -1. -1. ... -1. -1. -1.]\n",
      " ...\n",
      " [-1. -1. -1. ... -1. -1. -1.]\n",
      " [-1. -1. -1. ... -1. -1. -1.]\n",
      " [-1. -1. -1. ... -1. -1. -1.]] True\n"
     ]
    },
    {
     "data": {
      "application/vnd.jupyter.widget-view+json": {
       "model_id": "8cf35026a75b45ebad518126625d2c9a",
       "version_major": 2,
       "version_minor": 0
      },
      "text/plain": [
       "Canvas(toolbar=Toolbar(toolitems=[('Home', 'Reset original view', 'home', 'home'), ('Back', 'Back to previous …"
      ]
     },
     "metadata": {},
     "output_type": "display_data"
    },
    {
     "data": {
      "application/vnd.jupyter.widget-view+json": {
       "model_id": "8a3c94ca6e28456d98210f49d06496d6",
       "version_major": 2,
       "version_minor": 0
      },
      "text/plain": [
       "Canvas(toolbar=Toolbar(toolitems=[('Home', 'Reset original view', 'home', 'home'), ('Back', 'Back to previous …"
      ]
     },
     "metadata": {},
     "output_type": "display_data"
    },
    {
     "data": {
      "application/vnd.jupyter.widget-view+json": {
       "model_id": "c8f2b041fe804bd9bf65386a1e725754",
       "version_major": 2,
       "version_minor": 0
      },
      "text/plain": [
       "Canvas(toolbar=Toolbar(toolitems=[('Home', 'Reset original view', 'home', 'home'), ('Back', 'Back to previous …"
      ]
     },
     "metadata": {},
     "output_type": "display_data"
    }
   ],
   "source": [
    "%matplotlib widget\n",
    "import matplotlib.pyplot as plt\n",
    "import numpy as np\n",
    "import cv2\n",
    "# # Debug images for gray patterns\n",
    "# plt.figure(figsize = (20,10))\n",
    "# plt.imshow(v)#, cmap=\"gray\")\n",
    "# plt.show()\n",
    "# plt.figure(figsize = (20,10))\n",
    "# plt.imshow(h)#, cmap=\"gray\")\n",
    "# plt.show()\n",
    "\n",
    "import cv2\n",
    "fs = cv2.FileStorage(\"rendering/decoded.xml\", cv2.FILE_STORAGE_READ)\n",
    "fv = fs.getNode(\"vertical\").mat()\n",
    "fh = fs.getNode(\"horizontal\").mat()\n",
    "print(fv.shape, fh.shape, fv.dtype, v.dtype)\n",
    "\n",
    "\n",
    "#Comparison to decoding stage from scan3d\n",
    "with open(\"rendering/pattern_0.txt\", \"r\") as fi:\n",
    "    lines = fi.readlines()\n",
    "\n",
    "#pattern = np.zeros((2341, 3137))\n",
    "pattern = np.zeros((2048, 2048))\n",
    "#assert len(lines) == 2048\n",
    "\n",
    "for idx, line in enumerate(lines):\n",
    "    values = line.split(\"\\t\")[:-1]\n",
    "    pattern[idx] = np.array(values)\n",
    "\n",
    "pattern = np.nan_to_num(pattern, nan=-1.0)\n",
    "pattern[mask] = -1.0\n",
    "\n",
    "fv = np.nan_to_num(fv, nan=-1.0)\n",
    "fv[mask] = -1.0\n",
    "\n",
    "print(pattern, np.allclose(pattern, fv))\n",
    "plt.figure(figsize = (20,10))\n",
    "plt.imshow(pattern)#, cmap=\"gray\")\n",
    "plt.show()\n",
    "\n",
    "plt.figure(figsize = (20,10))\n",
    "plt.imshow(fv)#, cmap=\"gray\")\n",
    "plt.show()\n",
    "\n",
    "plt.figure(figsize = (20,10))\n",
    "plt.imshow(pattern-fv)#, cmap=\"gray\")\n",
    "plt.show()\n",
    "\n",
    "# plt.figure(figsize = (20,10))\n",
    "# plt.hist(fv.reshape(-1))\n",
    "# plt.show()\n",
    "\n",
    "# plt.figure(figsize = (20,10))\n",
    "# plt.hist(pattern.reshape(-1))\n",
    "# plt.show()"
   ]
  }
 ],
 "metadata": {
  "kernelspec": {
   "display_name": "Python 3",
   "language": "python",
   "name": "python3"
  },
  "language_info": {
   "codemirror_mode": {
    "name": "ipython",
    "version": 3
   },
   "file_extension": ".py",
   "mimetype": "text/x-python",
   "name": "python",
   "nbconvert_exporter": "python",
   "pygments_lexer": "ipython3",
   "version": "3.8.5"
  }
 },
 "nbformat": 4,
 "nbformat_minor": 4
}
