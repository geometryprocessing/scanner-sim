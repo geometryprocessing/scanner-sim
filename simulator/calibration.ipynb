{
 "cells": [
  {
   "cell_type": "code",
   "execution_count": 1,
   "metadata": {},
   "outputs": [],
   "source": [
    "# Undistort images\n",
    "import numpy as np\n",
    "import pickle\n",
    "import cv2\n",
    "\n",
    "with open(\"cam.npy\", \"rb\") as fi:\n",
    "    c = np.load(fi)\n",
    "\n",
    "with open(\"refined_calibration.pkl\", \"rb\") as fi:\n",
    "    rc = pickle.load(fi)\n",
    "    \n",
    "img = cv2.imread(\"ref.png\")\n",
    "img2 = cv2.undistort(img, rc[1], rc[2])\n",
    "cv2.imwrite(\"ref_un.png\", img2)"
   ]
  },
  {
   "cell_type": "code",
   "execution_count": 3,
   "metadata": {},
   "outputs": [],
   "source": [
    "# Calculate FOV for simulation\n",
    "import numpy as np\n",
    "#cameraMatrix = rc[1]\n",
    "#print(cameraMatrix)\n",
    "camera = np.array([[14765.75, 0.0, 3326.5888055600226],\n",
    "        [0.0,14810.443359375, 2511.1309993313625],\n",
    "        [0.0, 0.0,1.0 ]])\n",
    "proj = np.array([[2901.4541015625, 0.0, 938.2533578506554],\n",
    "        [0.0,2893.365478515625, 1080.8464171617743],\n",
    "        [0.0, 0.0,1.0 ]])\n",
    "imageSize = (6464, 4852)\n",
    "projSize = (1920, 1080)\n",
    "#apertureWidth = 0.00645\n",
    "apertureWidth = 0.0223\n",
    "#apertureHeight = 0.00645\n",
    "apertureHeight = 0.01678\n",
    "\n",
    "pars_cam = cv2.calibrationMatrixValues(camera, imageSize, apertureWidth, apertureHeight)\n",
    "pars_pro = cv2.calibrationMatrixValues(proj, projSize, 1.0, 1.0)\n",
    "\n",
    "print(\"p_fovx, p_fovy, p_focalLength, p_principalPoint, p_aspectRatio\")\n",
    "print(pars_cam)\n",
    "print(pars_pro)"
   ]
  },
  {
   "cell_type": "code",
   "execution_count": 5,
   "metadata": {},
   "outputs": [
    {
     "name": "stdout",
     "output_type": "stream",
     "text": [
      "p_fovx, p_fovy, p_focalLength, p_principalPoint, p_aspectRatio\n",
      "(24.691991457273215, 18.604662953325178, 0.05094001005569307, (0.011476319672646737, 0.008684414296945643), 1.003026826227926)\n",
      "(36.61378383236295, 20.46692994730509, 1.5111740112304688, (0.4886736238805497, 1.0007837195942355), 0.9972122174731218)\n"
     ]
    }
   ],
   "source": []
  }
 ],
 "metadata": {
  "kernelspec": {
   "display_name": "Python 3",
   "language": "python",
   "name": "python3"
  },
  "language_info": {
   "codemirror_mode": {
    "name": "ipython",
    "version": 3
   },
   "file_extension": ".py",
   "mimetype": "text/x-python",
   "name": "python",
   "nbconvert_exporter": "python",
   "pygments_lexer": "ipython3",
   "version": "3.8.5"
  }
 },
 "nbformat": 4,
 "nbformat_minor": 4
}
