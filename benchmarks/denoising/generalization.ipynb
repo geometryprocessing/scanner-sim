{
 "cells": [
  {
   "cell_type": "code",
   "execution_count": null,
   "source": [
    "import cv2\r\n",
    "import matplotlib.pyplot as plt\r\n",
    "import numpy as np\r\n",
    "from pathlib import Path\r\n",
    "import torch\r\n",
    "\r\n",
    "from common import load_network, predict, crop, export_point_cloud\r\n",
    "\r\n",
    "def disable_ticks(ax):\r\n",
    "    ax.get_xaxis().set_ticks([])\r\n",
    "    ax.get_yaxis().set_ticks([])\r\n",
    "\r\n",
    "device = torch.device('cuda:0')"
   ],
   "outputs": [],
   "metadata": {}
  },
  {
   "cell_type": "code",
   "execution_count": null,
   "source": [
    "# Load the network from a checkpoint\r\n",
    "checkpoint_path = Path(\"denoising.ckpt\")\r\n",
    "network, checkpoint, config = load_network(checkpoint_path, device=device)"
   ],
   "outputs": [],
   "metadata": {}
  },
  {
   "cell_type": "code",
   "execution_count": null,
   "source": [
    "# Define the calibration (fixed atm)\r\n",
    "K = 0.5 * np.array([[ 14700.7978515625, 0.0, 3230.5765901904233],\r\n",
    "                    [ 0.0, 14711.431640625, 2422.6457405752153],\r\n",
    "                    [ 0.0, 0.0, 1.0]])\r\n",
    "K[2, 2] = 1.0\r\n",
    "\r\n",
    "R = np.eye(3)\r\n",
    "t = np.zeros(3)"
   ],
   "outputs": [],
   "metadata": {}
  },
  {
   "cell_type": "code",
   "execution_count": null,
   "source": [
    "# Load the Rook sample\r\n",
    "rook_dir = Path(\"./data/rook\")\r\n",
    "sample = {}\r\n",
    "gt = np.load(rook_dir / \"dm_gt.npy\")[:, :, np.newaxis]\r\n",
    "color = plt.imread(rook_dir / \"rook_match_white.png\")\r\n",
    "scan_sim = np.load(rook_dir / \"dm_sim.npy\")[:, :, np.newaxis]\r\n",
    "scan_real = np.load(rook_dir / \"dm_scan.npy\")[:, :, np.newaxis]\r\n",
    "\r\n",
    "# Perform three normalization steps\r\n",
    "# 1) The current Rook ground truth is too wide (usually two pixels), so crop it (fixed with newer data)\r\n",
    "margin = gt.shape[1] % 3232\r\n",
    "assert(margin % 2 == 0)\r\n",
    "gt = gt[:, margin//2:-margin//2]\r\n",
    "# 2) Make all images/maps the same size\r\n",
    "color = cv2.resize(color, dsize=(gt.shape[:2][::-1]))\r\n",
    "scan_sim = cv2.resize(scan_sim, dsize=(gt.shape[:2][::-1]))[:, :, np.newaxis]\r\n",
    "scan_real = cv2.resize(scan_real, dsize=(gt.shape[:2][::-1]))[:, :, np.newaxis]\r\n",
    "# 3) Scale the depth to meters if it is in millimiters\r\n",
    "if scan_sim.max() > 100:\r\n",
    "    scan_sim /= 1000.0\r\n",
    "if scan_real.max() > 100:\r\n",
    "    scan_real /= 1000.0"
   ],
   "outputs": [],
   "metadata": {}
  },
  {
   "cell_type": "code",
   "execution_count": null,
   "source": [
    "# Denoise the real scan\r\n",
    "denoised_real = predict(network, {'depth': scan_real}, device)"
   ],
   "outputs": [],
   "metadata": {}
  },
  {
   "cell_type": "code",
   "execution_count": null,
   "source": [
    "# Plot a figure\r\n",
    "\r\n",
    "scale = (1000.0, \"mm\")\r\n",
    "fontsize = 46\r\n",
    "roi = [0, 2000, 1000, 2250]\r\n",
    "\r\n",
    "error_threshold = 0.0015 * scale[0]\r\n",
    "error_min = -error_threshold\r\n",
    "error_max = error_threshold\r\n",
    "\r\n",
    "mask_reconstructed = scan_real > 0\r\n",
    "\r\n",
    "error_reconstructed = (scan_real - gt) * scale[0]\r\n",
    "error_reconstructed[~mask_reconstructed] = 0\r\n",
    "\r\n",
    "error_denoised = (denoised_real.numpy() - gt) * scale[0]\r\n",
    "error_denoised[~mask_reconstructed] = 0\r\n",
    "\r\n",
    "error_ratio = np.abs(error_denoised) / np.abs(error_reconstructed)\r\n",
    "error_ratio[error_reconstructed == 0] = 0\r\n",
    "\r\n",
    "fig, axs = plt.subplots(1, 4, figsize=(32, 11), constrained_layout=True)\r\n",
    "\r\n",
    "axs[0].set_title(\"Reconstructed\", fontsize=fontsize)\r\n",
    "axs[0].get_xaxis().set_ticks([])\r\n",
    "axs[0].get_yaxis().set_ticks([])\r\n",
    "im = axs[0].imshow(crop(error_reconstructed, roi), vmin=error_min, vmax=error_max, cmap='bwr')\r\n",
    "\r\n",
    "cbar = fig.colorbar(im, ax=[axs[0]], location='left', aspect=30, pad=0.04)\r\n",
    "cbar.ax.set_ylabel(scale[1], fontsize=fontsize)\r\n",
    "cbar.ax.tick_params(labelsize=fontsize)\r\n",
    "\r\n",
    "#axs[1].axis('off')\r\n",
    "axs[1].set_title(\"Denoised\", fontsize=fontsize)\r\n",
    "axs[1].get_xaxis().set_ticks([])\r\n",
    "axs[1].get_yaxis().set_ticks([])\r\n",
    "im = axs[1].imshow(crop(error_denoised, roi), vmin=error_min, vmax=error_max, cmap='bwr')\r\n",
    "\r\n",
    "axs[2].set_title(\"Improved Regions\", fontsize=fontsize)\r\n",
    "axs[2].get_xaxis().set_ticks([])\r\n",
    "axs[2].get_yaxis().set_ticks([])\r\n",
    "im = axs[2].imshow(crop(np.abs(error_denoised) < np.abs(error_reconstructed), roi), cmap='viridis')\r\n",
    "\r\n",
    "bins = np.linspace(-error_threshold, error_threshold, 100)\r\n",
    "axs[3].hist(error_reconstructed[mask_reconstructed & (np.abs(error_reconstructed) < error_threshold)].ravel(), bins=bins, alpha=0.5, label='Reconstruction')\r\n",
    "axs[3].hist(error_denoised[mask_reconstructed & (np.abs(error_denoised) < error_threshold)].ravel(), bins=bins, alpha=0.5, label='Denoised')\r\n",
    "axs[3].set_xlabel(scale[1], fontsize=fontsize)\r\n",
    "axs[3].axvline(x=0, color='green', linestyle='--')\r\n",
    "axs[3].tick_params(labelsize=fontsize)\r\n",
    "axs[3].get_yaxis().set_ticks([])\r\n",
    "axs[3].legend(fontsize=fontsize-10, loc='upper left', bbox_to_anchor=(0.5, 1.0))\r\n",
    "\r\n",
    "plt.savefig(\"generalization_rook.png\", facecolor='white')\r\n",
    "plt.show()"
   ],
   "outputs": [],
   "metadata": {}
  },
  {
   "cell_type": "code",
   "execution_count": null,
   "source": [
    "# Write the point clouds\r\n",
    "output_dir = Path(\"./out/generalization/rook\")\r\n",
    "output_dir.mkdir(parents=True, exist_ok=True)\r\n",
    "export_point_cloud(str(output_dir / \"gt.ply\"), gt, K, R, t)\r\n",
    "export_point_cloud(str(output_dir / \"scan.ply\"), scan_real, K, R, t)\r\n",
    "export_point_cloud(str(output_dir / \"denoised.ply\"), denoised_real.numpy(), K, R, t)"
   ],
   "outputs": [],
   "metadata": {}
  }
 ],
 "metadata": {
  "orig_nbformat": 4,
  "language_info": {
   "name": "python",
   "version": "3.8.10",
   "mimetype": "text/x-python",
   "codemirror_mode": {
    "name": "ipython",
    "version": 3
   },
   "pygments_lexer": "ipython3",
   "nbconvert_exporter": "python",
   "file_extension": ".py"
  },
  "kernelspec": {
   "name": "python3",
   "display_name": "Python 3.8.10 64-bit ('cg': conda)"
  },
  "interpreter": {
   "hash": "78e9c2851d0057ba85da98f7168f9924e0b732020cde9b751ef3c39414672ae8"
  }
 },
 "nbformat": 4,
 "nbformat_minor": 2
}