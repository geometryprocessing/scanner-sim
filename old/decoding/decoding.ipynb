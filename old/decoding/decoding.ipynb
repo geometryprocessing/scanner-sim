{
 "cells": [
  {
   "cell_type": "code",
   "execution_count": 4,
   "metadata": {},
   "outputs": [
    {
     "name": "stdout",
     "output_type": "stream",
     "text": [
      "['decode.py', '__pycache__', 'decoding.ipynb', 'decode', '.ipynb_checkpoints']\n"
     ]
    }
   ],
   "source": [
    "# Python MPS decoding\n",
    "#ic = decode_images_mps(\"rendering/results/obj_mps/rot_000\", \"rendering/patterns/mps/64-05\")\n",
    "\n",
    "# Python Gray decoding\n",
    "#v, h, mask = decode_images_gray_python(\"rendering/results/00_obj/\", \"rendering/patterns/gray/default/\", prefix=\"cam\")\n",
    "\n",
    "# Decoding storage/saving\n",
    "#dec = np.stack([v, h, mask])\n",
    "# with open(\"rendering/results/obj_gray/rot_fixed/decoded.npy\", \"wb\") as fi:\n",
    "#     np.save(fi, dec)\n",
    "# import cv2\n",
    "# fs = cv2.FileStorage(\"rendering/results/obj_new/rot_fixed/decoded.xml\", cv2.FILE_STORAGE_WRITE)\n",
    "# fs.write(\"v\", dec[0].astype(\"float32\"))\n",
    "# fs.write(\"h\", dec[1].astype(\"float32\")) \n",
    "# fs.release()\n",
    "\n",
    "from decode import decode_images_gray\n",
    "import os\n",
    "print(os.listdir(\".\"))\n",
    "\n",
    "# Fast gray decoding\n",
    "decode_images_gray(\"../data/results/pawn_scan/rot_fixed/trans_fixed\", prefix=\"img\", pro=[1920, 1080])\n",
    "\n",
    "\n"
   ]
  },
  {
   "cell_type": "code",
   "execution_count": null,
   "metadata": {},
   "outputs": [],
   "source": [
    "%matplotlib widget\n",
    "import matplotlib.pyplot as plt\n",
    "import numpy as np\n",
    "import cv2\n",
    "\n",
    "# Debug images for gray patterns\n",
    "plt.figure(figsize = (20,10))\n",
    "plt.imshow(v)#, cmap=\"gray\")\n",
    "plt.show()\n",
    "plt.figure(figsize = (20,10))\n",
    "plt.imshow(h)#, cmap=\"gray\")\n",
    "plt.show()\n",
    "#dec = np.stack([v, h, mask])\n",
    "print(dec.shape)"
   ]
  },
  {
   "cell_type": "code",
   "execution_count": null,
   "metadata": {},
   "outputs": [],
   "source": [
    "# Debug output for mps decoding\n",
    "import matplotlib.pyplot as plt\n",
    "\n",
    "plt.figure(figsize = (20,20))\n",
    "plt.imshow(IC, cmap=\"jet\")\n",
    "plt.show()\n",
    "print(IC.dtype, IC.shape, IC[750, 750])"
   ]
  },
  {
   "cell_type": "code",
   "execution_count": 6,
   "metadata": {},
   "outputs": [
    {
     "data": {
      "application/vnd.jupyter.widget-view+json": {
       "model_id": "46f4336bae8f466399fccb8e7010c0b4",
       "version_major": 2,
       "version_minor": 0
      },
      "text/plain": [
       "Canvas(toolbar=Toolbar(toolitems=[('Home', 'Reset original view', 'home', 'home'), ('Back', 'Back to previous …"
      ]
     },
     "metadata": {},
     "output_type": "display_data"
    },
    {
     "data": {
      "application/vnd.jupyter.widget-view+json": {
       "model_id": "41b3be0eb15047b5932d569c78715368",
       "version_major": 2,
       "version_minor": 0
      },
      "text/plain": [
       "Canvas(toolbar=Toolbar(toolitems=[('Home', 'Reset original view', 'home', 'home'), ('Back', 'Back to previous …"
      ]
     },
     "metadata": {},
     "output_type": "display_data"
    }
   ],
   "source": [
    "%matplotlib widget\n",
    "import matplotlib.pyplot as plt\n",
    "import numpy as np\n",
    "import cv2\n",
    "# # Debug images for gray patterns\n",
    "# plt.figure(figsize = (20,10))\n",
    "# plt.imshow(v)#, cmap=\"gray\")\n",
    "# plt.show()\n",
    "# plt.figure(figsize = (20,10))\n",
    "# plt.imshow(h)#, cmap=\"gray\")\n",
    "# plt.show()\n",
    "\n",
    "import cv2\n",
    "fs = cv2.FileStorage(\"../data/results/pawn_scan/rot_fixed/trans_fixed/decoded.xml\", cv2.FILE_STORAGE_READ)\n",
    "fv = fs.getNode(\"vertical\").mat()\n",
    "fh = fs.getNode(\"horizontal\").mat()\n",
    "#print(fv.shape, fh.shape, fv.dtype, v.dtype)\n",
    "\n",
    "\n",
    "# #Comparison to decoding stage from scan3d\n",
    "# with open(\"rendering/pattern_0.txt\", \"r\") as fi:\n",
    "#     lines = fi.readlines()\n",
    "\n",
    "# #pattern = np.zeros((2341, 3137))\n",
    "# pattern = np.zeros((2048, 2048))\n",
    "# #assert len(lines) == 2048\n",
    "\n",
    "# for idx, line in enumerate(lines):\n",
    "#     values = line.split(\"\\t\")[:-1]\n",
    "#     pattern[idx] = np.array(values)\n",
    "\n",
    "# pattern = np.nan_to_num(pattern, nan=-1.0)\n",
    "# pattern[mask] = -1.0\n",
    "\n",
    "# fv = np.nan_to_num(fv, nan=-1.0)\n",
    "# fv[mask] = -1.0\n",
    "\n",
    "# print(pattern, np.allclose(pattern, fv))\n",
    "# plt.figure(figsize = (20,10))\n",
    "# plt.imshow(pattern)#, cmap=\"gray\")\n",
    "# plt.show()\n",
    "\n",
    "plt.figure(figsize = (20,10))\n",
    "plt.imshow(fv)#, cmap=\"gray\")\n",
    "plt.show()\n",
    "\n",
    "plt.figure(figsize = (20,10))\n",
    "plt.imshow(fh)#, cmap=\"gray\")\n",
    "plt.show()\n",
    "\n",
    "# plt.figure(figsize = (20,10))\n",
    "# plt.hist(fv.reshape(-1))\n",
    "# plt.show()\n",
    "\n",
    "# plt.figure(figsize = (20,10))\n",
    "# plt.hist(pattern.reshape(-1))\n",
    "# plt.show()"
   ]
  }
 ],
 "metadata": {
  "kernelspec": {
   "display_name": "Python 3",
   "language": "python",
   "name": "python3"
  },
  "language_info": {
   "codemirror_mode": {
    "name": "ipython",
    "version": 3
   },
   "file_extension": ".py",
   "mimetype": "text/x-python",
   "name": "python",
   "nbconvert_exporter": "python",
   "pygments_lexer": "ipython3",
   "version": "3.8.5"
  }
 },
 "nbformat": 4,
 "nbformat_minor": 4
}
