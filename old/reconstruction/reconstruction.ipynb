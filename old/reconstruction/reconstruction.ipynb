{
 "cells": [
  {
   "cell_type": "code",
   "execution_count": 15,
   "metadata": {},
   "outputs": [],
   "source": [
    "from reconstruct import reconstruct_object\n",
    "\n",
    "reconstruct_object(\"../data/results/pawn_scan/rot_fixed/trans_fixed\", \"../data/calibrations/calibration_new.yml\", pro=[1920, 1080], threshold=100, max_depth=1000.0, prefix=\"img\")"
   ]
  }
 ],
 "metadata": {
  "kernelspec": {
   "display_name": "Python 3",
   "language": "python",
   "name": "python3"
  },
  "language_info": {
   "codemirror_mode": {
    "name": "ipython",
    "version": 3
   },
   "file_extension": ".py",
   "mimetype": "text/x-python",
   "name": "python",
   "nbconvert_exporter": "python",
   "pygments_lexer": "ipython3",
   "version": "3.8.5"
  }
 },
 "nbformat": 4,
 "nbformat_minor": 4
}
