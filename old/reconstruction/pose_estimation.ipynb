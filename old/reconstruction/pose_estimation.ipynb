{
 "cells": [
  {
   "cell_type": "code",
   "execution_count": null,
   "metadata": {},
   "outputs": [],
   "source": [
    "# Estimate pose/origin of plane object\n",
    "import igl\n",
    "import numpy as np\n",
    "import meshplot as mp\n",
    "import json\n",
    "\n",
    "ps , _ = igl.read_triangle_mesh(\"points.ply\")\n",
    "idx = np.random.randint(0, ps.shape[0], size=50000)\n",
    "#u, c = np.unique(idx, return_counts=True)\n",
    "#dup = u[c > 1]\n",
    "\n",
    "D = ps - np.mean(ps, axis=0)\n",
    "u, s, v = np.linalg.svd(D[idx, :])\n",
    "\n",
    "mean = np.mean(ps, axis=0)\n",
    "p = mp.plot(ps[idx, :], return_plot=True)\n",
    "p.add_lines(mean, mean + v[0]*s[0]/100)\n",
    "p.add_lines(mean, mean + v[1]*s[1]/100)\n",
    "p.add_lines(mean, mean + v[2]*s[2])\n",
    "\n",
    "data = {\"origin\": mean, \"origin_hint\": \"Units are millimeters (in camera's frame of reference)\",\n",
    "       \"basis\": v, \"basis_hint\": \"[ex, ey, ez] in camera's frame of reference (same as origin)\"}\n",
    "\n",
    "with open(\"origin.json\", \"w\") as write_file:\n",
    "    json.dump(data, write_file)"
   ]
  }
 ],
 "metadata": {
  "kernelspec": {
   "display_name": "Python 3",
   "language": "python",
   "name": "python3"
  },
  "language_info": {
   "codemirror_mode": {
    "name": "ipython",
    "version": 3
   },
   "file_extension": ".py",
   "mimetype": "text/x-python",
   "name": "python",
   "nbconvert_exporter": "python",
   "pygments_lexer": "ipython3",
   "version": "3.8.5"
  }
 },
 "nbformat": 4,
 "nbformat_minor": 4
}
