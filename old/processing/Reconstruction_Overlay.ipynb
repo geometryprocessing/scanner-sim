{
 "cells": [
  {
   "cell_type": "code",
   "execution_count": 17,
   "metadata": {},
   "outputs": [
    {
     "name": "stdout",
     "output_type": "stream",
     "text": [
      "[[  -9.48749539   70.91672264  861.20602711 1000.        ]]\n",
      "[[ 0.95806796 -0.00338481 -0.82659367  0.72218967]\n",
      " [ 0.02782512 -1.26451082  0.03742889  0.00839931]\n",
      " [-0.82613214 -0.04651561 -0.95734255  0.81572968]\n",
      " [ 0.          0.          0.          1.        ]]\n"
     ]
    }
   ],
   "source": [
    "import igl\n",
    "import meshplot as mp\n",
    "import numpy as np\n",
    "\n",
    "r = np.array([[9.99985088e-01, -5.46014155e-03, -1.06692981e-04],\n",
    "              [0.00000000e+00, -1.95366030e-02,  9.99809142e-01],\n",
    "              [-5.46118386e-03, -9.99794233e-01, -1.95363117e-02]])\n",
    "t = np.array([[-.00948749539, .07091672264, 0.86120602711, 1.0]])\n",
    "t *= 1000.0\n",
    "#ri = np.vstack([r, np.zeros(3)])\n",
    "#transi = np.hstack([ri, -t.T])\n",
    "\n",
    "r = np.vstack([r.T, np.zeros(3)])\n",
    "trans = np.hstack([r, t.T])\n",
    "\n",
    "trans = np.array([[ 5.98357629e+01, 1.73780698e+00, -5.15957625e+01, -1.13917137e+01],\n",
    "                 [-2.11396908e-01, -7.89745329e+01, -2.90511434e+00,  3.18578817e+01],\n",
    "                 [-5.16245870e+01,  2.33760665e+00, -5.97904575e+01,  8.60359595e+02],\n",
    "                 [ 0.00000000e+00,  0.00000000e+00,  0.00000000e+00,  1.00000000e+00]])\n",
    "trans[:3, :] = trans[:3, :] / 100\n",
    "trans[:3, 3] = trans[:3, 3] / 10\n",
    "#trans = trans.reshape(-1)\n",
    "\n",
    "#trans = np.linalg.inv(trans)\n",
    "print(t)\n",
    "print(np.linalg.inv(trans))"
   ]
  },
  {
   "cell_type": "code",
   "execution_count": 4,
   "metadata": {},
   "outputs": [
    {
     "name": "stdout",
     "output_type": "stream",
     "text": [
      "None\n"
     ]
    }
   ],
   "source": [
    "import os\n",
    "print(os.chdir(\"..\"))"
   ]
  },
  {
   "cell_type": "code",
   "execution_count": 18,
   "metadata": {},
   "outputs": [],
   "source": [
    "#v_ref, f_ref = igl.read_triangle_mesh(\"pawn.obj\")\n",
    "#v_rec, _ = igl.read_triangle_mesh(\"pawn_all.ply\")\n",
    "\n",
    "v_ref, f_ref = igl.read_triangle_mesh(\"data/objects/colored/vase/vase2.obj\")\n",
    "v_rec, _ = igl.read_triangle_mesh(\"data/objects/colored/vase_group.ply\")"
   ]
  },
  {
   "cell_type": "code",
   "execution_count": 19,
   "metadata": {},
   "outputs": [
    {
     "name": "stdout",
     "output_type": "stream",
     "text": [
      "(1999404, 3)\n",
      "(340670, 3)\n"
     ]
    },
    {
     "data": {
      "application/vnd.jupyter.widget-view+json": {
       "model_id": "40220ed533aa4cee8acf9227768e9d41",
       "version_major": 2,
       "version_minor": 0
      },
      "text/plain": [
       "Renderer(camera=PerspectiveCamera(children=(DirectionalLight(color='white', intensity=0.6, position=(0.0, 0.0,…"
      ]
     },
     "metadata": {},
     "output_type": "display_data"
    },
    {
     "data": {
      "text/plain": [
       "<meshplot.Viewer.Viewer at 0x7f434c82f3d0>"
      ]
     },
     "execution_count": 19,
     "metadata": {},
     "output_type": "execute_result"
    }
   ],
   "source": [
    "print(v_rec.shape)\n",
    "v_rec_ss = v_rec[np.random.choice(v_rec.shape[0], 340670, replace=False), :]\n",
    "print(v_rec_ss.shape)\n",
    "mp.plot(v_rec_ss)"
   ]
  },
  {
   "cell_type": "code",
   "execution_count": 24,
   "metadata": {},
   "outputs": [
    {
     "name": "stdout",
     "output_type": "stream",
     "text": [
      "(32002, 1) (32002, 3)\n",
      "-52.573301623402294 49.67952304278932 -0.6677929284754143\n",
      "-71.25892639160156 928.4085693359375 294.04479030286154\n"
     ]
    }
   ],
   "source": [
    "pad = np.ones((v_ref.shape[0], 1))\n",
    "print(pad.shape, v_ref.shape)\n",
    "v_ref_h = np.hstack([v_ref, np.ones((v_ref.shape[0], 1))])\n",
    "v_trans = np.dot(trans, v_ref_h.T).T\n",
    "\n",
    "print(np.min(v_trans), np.max(v_trans), np.mean(v_trans))\n",
    "print(np.min(v_rec_ss), np.max(v_rec_ss), np.mean(v_rec_ss))"
   ]
  },
  {
   "cell_type": "code",
   "execution_count": 25,
   "metadata": {},
   "outputs": [
    {
     "data": {
      "application/vnd.jupyter.widget-view+json": {
       "model_id": "1891b76fd22a48efbed69a005875b1e9",
       "version_major": 2,
       "version_minor": 0
      },
      "text/plain": [
       "Renderer(camera=PerspectiveCamera(children=(DirectionalLight(color='white', intensity=0.6, position=(0.0, 0.0,…"
      ]
     },
     "metadata": {},
     "output_type": "display_data"
    },
    {
     "data": {
      "text/plain": [
       "1"
      ]
     },
     "execution_count": 25,
     "metadata": {},
     "output_type": "execute_result"
    }
   ],
   "source": [
    "p = mp.plot(v_trans[:, :3], f_ref, return_plot=True)\n",
    "p.add_points(v_rec_ss, shading={\"point_size\": 2.0})"
   ]
  },
  {
   "cell_type": "code",
   "execution_count": 92,
   "metadata": {},
   "outputs": [
    {
     "data": {
      "text/plain": [
       "(340670, 4)"
      ]
     },
     "execution_count": 92,
     "metadata": {},
     "output_type": "execute_result"
    }
   ],
   "source": [
    "v_trans.shape"
   ]
  },
  {
   "cell_type": "code",
   "execution_count": 94,
   "metadata": {},
   "outputs": [
    {
     "data": {
      "text/plain": [
       "True"
      ]
     },
     "execution_count": 94,
     "metadata": {},
     "output_type": "execute_result"
    }
   ],
   "source": [
    "igl.write_triangle_mesh(\"reference.obj\", v_trans[:, :3], f_ref)\n",
    "igl.write_triangle_mesh(\"reconstructed.obj\", v_rec_ss, np.array([[0, 1, 2]]))"
   ]
  }
 ],
 "metadata": {
  "kernelspec": {
   "display_name": "Python 3",
   "language": "python",
   "name": "python3"
  },
  "language_info": {
   "codemirror_mode": {
    "name": "ipython",
    "version": 3
   },
   "file_extension": ".py",
   "mimetype": "text/x-python",
   "name": "python",
   "nbconvert_exporter": "python",
   "pygments_lexer": "ipython3",
   "version": "3.8.5"
  }
 },
 "nbformat": 4,
 "nbformat_minor": 4
}
